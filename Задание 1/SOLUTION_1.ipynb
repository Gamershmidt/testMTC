{
 "cells": [
  {
   "cell_type": "markdown",
   "id": "06125911",
   "metadata": {},
   "source": [
    "# Задание 1  \n",
    "> Интерпретация задачи \"Найти в тексте на русском языке факт продажи.\"\n",
    "\n",
    "Под фактом продажи я понимаю фрагмент текста, который несет **\"продающий\" смысл — рекламный контент**.  \n",
    "Ставлю перед собой цель — выделить в тексте рекламную часть. Для этого я разделяю задачу на следующие этапы:  \n",
    "1. Классифицировать текст как содержащий рекламу или не содержащий рекламу.  \n",
    "2. Найти рекламный фрагмент в тексте, который был классифицирован как рекламосодержащий.\n"
   ]
  },
  {
   "cell_type": "markdown",
   "id": "c28f0995",
   "metadata": {},
   "source": [
    "## 1. Проблема с данными  \n",
    "Первая проблема, с которой я столкнулась — это отсутствие подходящего датасета на русском языке, а также неравномерность классов: большинство статей не рекламные, а также новостные издания часто не указывают в очевидном месте, является ли статья к рекламой.\n",
    "\n",
    "### Решение - свой датасет  \n",
    "Для решения этой задачи я создала собственный датасет, взяв за основу новости с сайта Lenta.ru ([ссылка на Kaggle](https://www.kaggle.com/datasets/yutkin/corpus-of-russian-news-articles-from-lenta)). Чтобы дополнить его рекламными материалами, я внедрила рекламные элементы в обычные новости с помощью Yandex GPT. Скрипты для создания и обработки датасета можно найти в папке `\\dateset_generation`.\n"
   ]
  },
  {
   "cell_type": "code",
   "execution_count": 1,
   "id": "51a2d746-d990-46c4-80e2-2d5d2d6cb3b2",
   "metadata": {},
   "outputs": [
    {
     "data": {
      "text/html": [
       "<div>\n",
       "<style scoped>\n",
       "    .dataframe tbody tr th:only-of-type {\n",
       "        vertical-align: middle;\n",
       "    }\n",
       "\n",
       "    .dataframe tbody tr th {\n",
       "        vertical-align: top;\n",
       "    }\n",
       "\n",
       "    .dataframe thead th {\n",
       "        text-align: right;\n",
       "    }\n",
       "</style>\n",
       "<table border=\"1\" class=\"dataframe\">\n",
       "  <thead>\n",
       "    <tr style=\"text-align: right;\">\n",
       "      <th></th>\n",
       "      <th>title</th>\n",
       "      <th>text</th>\n",
       "      <th>label</th>\n",
       "      <th>url</th>\n",
       "    </tr>\n",
       "  </thead>\n",
       "  <tbody>\n",
       "    <tr>\n",
       "      <th>1210</th>\n",
       "      <td>NaN</td>\n",
       "      <td>В Казани с 10 по 12 ноября прошла международна...</td>\n",
       "      <td>1</td>\n",
       "      <td>generated</td>\n",
       "    </tr>\n",
       "    <tr>\n",
       "      <th>3662</th>\n",
       "      <td>NaN</td>\n",
       "      <td>\\nКаждый день люди сталкиваются с неопределённ...</td>\n",
       "      <td>1</td>\n",
       "      <td>generated</td>\n",
       "    </tr>\n",
       "    <tr>\n",
       "      <th>6004</th>\n",
       "      <td>Предсказано катастрофическое появление «чернею...</td>\n",
       "      <td>Астрофизики из Университета штата Оклахома обн...</td>\n",
       "      <td>0</td>\n",
       "      <td>https://lenta.ru/news/2017/08/21/dwarf/</td>\n",
       "    </tr>\n",
       "    <tr>\n",
       "      <th>1721</th>\n",
       "      <td>Концерт в Екатеринбурге: встреча с прекрасным ...</td>\n",
       "      <td>В Екатеринбурге состоится грандиозный концерт,...</td>\n",
       "      <td>1</td>\n",
       "      <td>generated</td>\n",
       "    </tr>\n",
       "    <tr>\n",
       "      <th>6925</th>\n",
       "      <td>Фуркад отказался пожимать руку Логинову и ушел...</td>\n",
       "      <td>Французский биатлонист Мартен Фуркад демонстра...</td>\n",
       "      <td>0</td>\n",
       "      <td>https://lenta.ru/news/2017/02/09/login/</td>\n",
       "    </tr>\n",
       "  </tbody>\n",
       "</table>\n",
       "</div>"
      ],
      "text/plain": [
       "                                                  title  \\\n",
       "1210                                                NaN   \n",
       "3662                                                NaN   \n",
       "6004  Предсказано катастрофическое появление «чернею...   \n",
       "1721  Концерт в Екатеринбурге: встреча с прекрасным ...   \n",
       "6925  Фуркад отказался пожимать руку Логинову и ушел...   \n",
       "\n",
       "                                                   text  label  \\\n",
       "1210  В Казани с 10 по 12 ноября прошла международна...      1   \n",
       "3662  \\nКаждый день люди сталкиваются с неопределённ...      1   \n",
       "6004  Астрофизики из Университета штата Оклахома обн...      0   \n",
       "1721  В Екатеринбурге состоится грандиозный концерт,...      1   \n",
       "6925  Французский биатлонист Мартен Фуркад демонстра...      0   \n",
       "\n",
       "                                          url  \n",
       "1210                                generated  \n",
       "3662                                generated  \n",
       "6004  https://lenta.ru/news/2017/08/21/dwarf/  \n",
       "1721                                generated  \n",
       "6925  https://lenta.ru/news/2017/02/09/login/  "
      ]
     },
     "execution_count": 1,
     "metadata": {},
     "output_type": "execute_result"
    }
   ],
   "source": [
    "import pandas as pd\n",
    "\n",
    "news = pd.read_csv(\"data/final_dataset.csv\")\n",
    "news = news.sample(frac=1)\n",
    "news.head()"
   ]
  },
  {
   "cell_type": "markdown",
   "id": "a548dc65",
   "metadata": {},
   "source": [
    "## 2. Предобработка данных"
   ]
  },
  {
   "cell_type": "code",
   "execution_count": 5,
   "id": "69396df9-4788-4c62-935a-41ae71839c6f",
   "metadata": {},
   "outputs": [],
   "source": [
    "from sklearn.model_selection import train_test_split\n",
    "\n",
    "X = news[\"text\"]\n",
    "y = news[\"label\"]\n",
    "\n",
    "X_train, X_test, y_train, y_test = train_test_split(X, y, test_size=0.25, random_state=42)"
   ]
  },
  {
   "cell_type": "code",
   "execution_count": 7,
   "id": "0628972e-0f15-40a2-ad29-70c0b8bda89f",
   "metadata": {},
   "outputs": [],
   "source": [
    "import nltk\n",
    "import pandas as pd\n",
    "from nltk.corpus import stopwords\n",
    "import pymorphy2\n",
    "import re\n",
    "\n",
    "\n",
    "class DataPreprocessor:\n",
    "    def __init__(self):\n",
    "        nltk.download(\"stopwords\")\n",
    "\n",
    "        self.my_stopwords = stopwords.words(\"russian\")\n",
    "        self.my_stopwords.extend(['что', 'это', 'так', 'вот', 'быть', 'как', 'в', 'к', 'на'])\n",
    "\n",
    "        self.morph = pymorphy2.MorphAnalyzer()\n",
    "\n",
    "    def stemming(self, content):\n",
    "        stemmed_content = re.sub('[^а-яА-Я]', ' ', content)  \n",
    "        stemmed_content = stemmed_content.lower() \n",
    "        stemmed_content = stemmed_content.split()  \n",
    "        return ' '.join([self.morph.parse(token)[0].normal_form for token in stemmed_content if\n",
    "                         token not in self.my_stopwords and token])\n",
    "\n",
    "    def fit_transform(self, X: pd.Series) -> pd.Series:\n",
    "        return X.apply(self.stemming)"
   ]
  },
  {
   "cell_type": "code",
   "execution_count": 9,
   "id": "2518163c",
   "metadata": {},
   "outputs": [],
   "source": [
    "from sklearn.feature_extraction.text import CountVectorizer, TfidfVectorizer\n",
    "from sklearn.preprocessing import MaxAbsScaler\n",
    "from sklearn.linear_model import LogisticRegression\n",
    "from sklearn.ensemble import RandomForestClassifier\n",
    "from sklearn.svm import SVC\n",
    "from catboost import CatBoostClassifier\n",
    "from sklearn.metrics import classification_report\n",
    "import matplotlib.pyplot as plt\n",
    "import umap.umap_ as umap"
   ]
  },
  {
   "cell_type": "markdown",
   "id": "9c438a5f-24ee-46eb-9f6c-2b9418f1e49c",
   "metadata": {},
   "source": [
    "### Снижаю размерность и смотрю как представлены данные\n",
    "> Для снижения размерности использую umap"
   ]
  },
  {
   "cell_type": "code",
   "execution_count": 10,
   "id": "63fd9f2d-6f0f-414f-9c9b-3dd7ea27bdf1",
   "metadata": {},
   "outputs": [],
   "source": [
    "def vectorize(vectorizer, X_train, X_test):\n",
    "    preprocessor = DataPreprocessor()\n",
    "    X_train = preprocessor.fit_transform(X_train)\n",
    "    X_test = preprocessor.fit_transform(X_test)\n",
    "    vectorizer.fit(X_train)\n",
    "\n",
    "    bow = vectorizer.transform(X_train)\n",
    "    bow_test = vectorizer.transform(X_test)\n",
    "\n",
    "    print(bow.shape)\n",
    "\n",
    "    scaler = MaxAbsScaler()\n",
    "    reducer = umap.UMAP(n_neighbors=15, n_components=2)\n",
    "    embedding = reducer.fit_transform(bow)\n",
    "\n",
    "    plt.scatter(embedding[:, 0], embedding[:, 1], c=y_train, cmap=\"bwr\")\n",
    "    plt.title('UMAP Projection of Random Data')\n",
    "    plt.xlabel('UMAP Feature 1')\n",
    "    plt.ylabel('UMAP Feature 2')\n",
    "    plt.legend()\n",
    "    plt.show()\n",
    "    return {\"train\": scaler.fit_transform(bow),\n",
    "            \"test\": scaler.transform(bow_test)}\n",
    "\n",
    "\n",
    "def fit_predict(model, X_train, y_train, X_test, y_test):\n",
    "    model.fit(X_train, y_train)\n",
    "    pred = model.predict(X_test)\n",
    "    print(classification_report(y_test, pred))"
   ]
  },
  {
   "cell_type": "markdown",
   "id": "59ef2aa8-1b1a-428a-89d7-0120b74971ad",
   "metadata": {},
   "source": [
    "#### Визуализируем расположение разных классов"
   ]
  },
  {
   "cell_type": "code",
   "execution_count": 6,
   "id": "67ea4406-71e0-47f3-93b2-0cb3c2e198d0",
   "metadata": {},
   "outputs": [
    {
     "name": "stderr",
     "output_type": "stream",
     "text": [
      "[nltk_data] Downloading package stopwords to /home/sofia/nltk_data...\n",
      "[nltk_data]   Unzipping corpora/stopwords.zip.\n"
     ]
    },
    {
     "name": "stdout",
     "output_type": "stream",
     "text": [
      "(7549, 279)\n"
     ]
    },
    {
     "name": "stderr",
     "output_type": "stream",
     "text": [
      "No artists with labels found to put in legend.  Note that artists whose label start with an underscore are ignored when legend() is called with no argument.\n"
     ]
    },
    {
     "data": {
      "image/png": "[encoded data removed]",
      "text/plain": [
       "<Figure size 640x480 with 1 Axes>"
      ]
     },
     "metadata": {},
     "output_type": "display_data"
    },
    {
     "name": "stderr",
     "output_type": "stream",
     "text": [
      "[nltk_data] Downloading package stopwords to /home/sofia/nltk_data...\n",
      "[nltk_data]   Package stopwords is already up-to-date!\n"
     ]
    },
    {
     "name": "stdout",
     "output_type": "stream",
     "text": [
      "(7549, 279)\n"
     ]
    },
    {
     "name": "stderr",
     "output_type": "stream",
     "text": [
      "No artists with labels found to put in legend.  Note that artists whose label start with an underscore are ignored when legend() is called with no argument.\n"
     ]
    },
    {
     "data": {
      "image/png": "[encoded data removed]",
      "text/plain": [
       "<Figure size 640x480 with 1 Axes>"
      ]
     },
     "metadata": {},
     "output_type": "display_data"
    }
   ],
   "source": [
    "vectorizers = {\n",
    "    \"CountVectorizer\": CountVectorizer(ngram_range=(1, 1), min_df=0.05, max_df=0.8),\n",
    "    \"TfidfVectorizer\": TfidfVectorizer(ngram_range=(1, 1), min_df=0.05, max_df=0.8),\n",
    "}\n",
    "\n",
    "vectorized_data = {vectorizer_name: vectorize(vectorizers[vectorizer_name], X_train, X_test) for vectorizer_name in\n",
    "                   vectorizers}\n"
   ]
  },
  {
   "cell_type": "markdown",
   "id": "ab1b660b",
   "metadata": {},
   "source": [
    "## 3.1. Выбор модели  \n",
    "Для решения задачи я решила протестировать несколько моделей, каждая из которых использует разный подход к классификации:\n",
    "\n",
    "- `Logistic Regression` — хорошо работает для бинарной классификации.\n",
    "- `Random Forest Classifier` — устойчива к переобучению и может работать с большим количеством признаков.\n",
    "- `SVC (Support Vector Classifier)` — может обрабатывать нелинейные зависимости.\n",
    "- `CatBoost Classifier` — может автоматически обрабатывать категориальные признаки без необходимости их предварительного кодирования."
   ]
  },
  {
   "cell_type": "code",
   "execution_count": 23,
   "id": "fd83262a",
   "metadata": {},
   "outputs": [
    {
     "name": "stdout",
     "output_type": "stream",
     "text": [
      "Model: LogisticRegression (CountVectorizer), Accuracy: 0.9960270162892332, F1 Score: 0.9960270162892332\n",
      "Model: LogisticRegression (TfidfVectorizer), Accuracy: 0.9964243146603099, F1 Score: 0.9964240659010113\n",
      "Model: RandomForestClassifier (CountVectorizer), Accuracy: 0.9968216130313866, F1 Score: 0.9968220519877493\n",
      "Model: RandomForestClassifier (TfidfVectorizer), Accuracy: 0.9976162097735399, F1 Score: 0.9976162097735399\n",
      "Model: SVC (CountVectorizer), Accuracy: 0.9916567342073898, F1 Score: 0.9916549842672033\n",
      "Model: SVC (TfidfVectorizer), Accuracy: 0.9964243146603099, F1 Score: 0.9964245621884611\n",
      "Model: CatBoostClassifier (CountVectorizer), Accuracy: 0.9948351211760031, F1 Score: 0.994834761857016\n",
      "Model: CatBoostClassifier (TfidfVectorizer), Accuracy: 0.9948351211760031, F1 Score: 0.9948333067759247\n"
     ]
    }
   ],
   "source": [
    "from sklearn.metrics import accuracy_score, f1_score\n",
    "\n",
    "models = {\n",
    "    \"LogisticRegression\": LogisticRegression(max_iter=1000, class_weight='balanced', random_state=42),\n",
    "    \"RandomForestClassifier\": RandomForestClassifier(n_estimators=300, class_weight='balanced', random_state=42),\n",
    "    \"SVC\": SVC(kernel=\"linear\", class_weight='balanced', random_state=42),\n",
    "    \"CatBoostClassifier\": CatBoostClassifier(iterations=100, random_state=42, silent=True),\n",
    "}\n",
    "\n",
    "for model_name, model in models.items():\n",
    "    for vectorizer_name, vectorizer in vectorizers.items():\n",
    "        X_train_vect = vectorizer.fit_transform(X_train)\n",
    "        X_test_vect = vectorizer.transform(X_test)\n",
    "        model.fit(X_train_vect, y_train)\n",
    "        y_pred = model.predict(X_test_vect)\n",
    "        print(f\"Model: {model_name} ({vectorizer_name}), Accuracy: {accuracy_score(y_test, y_pred)}, F1 Score: {f1_score(y_test, y_pred, average='weighted')}\")"
   ]
  },
  {
   "cell_type": "markdown",
   "id": "b3273369",
   "metadata": {},
   "source": [
    "#### **Вывод**:  \n",
    "Все модели показывают хороший результат. Как было заметно на карте фич сверху, классы легко разделяются даже линейной моделью.  \n",
    "Я предположу, что генерированные тексты с рекламой построены по особому, чем новостные тексты, и поэтому легко выделяются. \n",
    "Дальше сравним ещё кастомноую LSTM модель и попробуем выделять фразы с рекламой."
   ]
  },
  {
   "cell_type": "code",
   "execution_count": 8,
   "id": "bdb7d7ac-a854-4788-8aae-3fac1982fc6b",
   "metadata": {},
   "outputs": [
    {
     "name": "stderr",
     "output_type": "stream",
     "text": [
      "[nltk_data] Downloading package stopwords to /home/sofia/nltk_data...\n",
      "[nltk_data]   Package stopwords is already up-to-date!\n"
     ]
    }
   ],
   "source": [
    "preprocessor = DataPreprocessor()"
   ]
  },
  {
   "cell_type": "markdown",
   "id": "dc30b5a2-1e37-4b64-b42d-3692c5001d93",
   "metadata": {},
   "source": [
    "## 3.2. Сравнение с кастомной LSTM моделью \n",
    "Я еще решила протестировать кастомную lstm помимо тех моделей. LSTM лучше умеет учитывать контекст слов в тексте."
   ]
  },
  {
   "cell_type": "code",
   "execution_count": 220,
   "id": "fb79c83b-0d23-4ec0-bf9a-8c2fc400cbed",
   "metadata": {},
   "outputs": [
    {
     "data": {
      "text/html": [
       "<div>\n",
       "<style scoped>\n",
       "    .dataframe tbody tr th:only-of-type {\n",
       "        vertical-align: middle;\n",
       "    }\n",
       "\n",
       "    .dataframe tbody tr th {\n",
       "        vertical-align: top;\n",
       "    }\n",
       "\n",
       "    .dataframe thead th {\n",
       "        text-align: right;\n",
       "    }\n",
       "</style>\n",
       "<table border=\"1\" class=\"dataframe\">\n",
       "  <thead>\n",
       "    <tr style=\"text-align: right;\">\n",
       "      <th></th>\n",
       "      <th>text</th>\n",
       "      <th>label</th>\n",
       "    </tr>\n",
       "  </thead>\n",
       "  <tbody>\n",
       "    <tr>\n",
       "      <th>1210</th>\n",
       "      <td>казань ноябрь пройти международный научный кон...</td>\n",
       "      <td>1</td>\n",
       "    </tr>\n",
       "    <tr>\n",
       "      <th>3662</th>\n",
       "      <td>каждый день человек сталкиваться неопредел нно...</td>\n",
       "      <td>1</td>\n",
       "    </tr>\n",
       "    <tr>\n",
       "      <th>6004</th>\n",
       "      <td>астрофизик университет штат оклахома обнаружит...</td>\n",
       "      <td>0</td>\n",
       "    </tr>\n",
       "    <tr>\n",
       "      <th>1721</th>\n",
       "      <td>екатеринбург состояться грандиозный концерт ко...</td>\n",
       "      <td>1</td>\n",
       "    </tr>\n",
       "    <tr>\n",
       "      <th>6925</th>\n",
       "      <td>французский биатлонист мартен фуркад демонстра...</td>\n",
       "      <td>0</td>\n",
       "    </tr>\n",
       "    <tr>\n",
       "      <th>...</th>\n",
       "      <td>...</td>\n",
       "      <td>...</td>\n",
       "    </tr>\n",
       "    <tr>\n",
       "      <th>7081</th>\n",
       "      <td>сеть появиться первый трейлер фильм предчувств...</td>\n",
       "      <td>0</td>\n",
       "    </tr>\n",
       "    <tr>\n",
       "      <th>6877</th>\n",
       "      <td>капитан махачкалинский футбольный клуб анжи ро...</td>\n",
       "      <td>0</td>\n",
       "    </tr>\n",
       "    <tr>\n",
       "      <th>3401</th>\n",
       "      <td>стратегический календарь инновационный продукт...</td>\n",
       "      <td>1</td>\n",
       "    </tr>\n",
       "    <tr>\n",
       "      <th>6582</th>\n",
       "      <td>форвард сборная россия хоккей александр радуло...</td>\n",
       "      <td>0</td>\n",
       "    </tr>\n",
       "    <tr>\n",
       "      <th>925</th>\n",
       "      <td>сочи стартовать долгожданный кинофестиваль хор...</td>\n",
       "      <td>1</td>\n",
       "    </tr>\n",
       "  </tbody>\n",
       "</table>\n",
       "<p>10066 rows × 2 columns</p>\n",
       "</div>"
      ],
      "text/plain": [
       "                                                   text  label\n",
       "1210  казань ноябрь пройти международный научный кон...      1\n",
       "3662  каждый день человек сталкиваться неопредел нно...      1\n",
       "6004  астрофизик университет штат оклахома обнаружит...      0\n",
       "1721  екатеринбург состояться грандиозный концерт ко...      1\n",
       "6925  французский биатлонист мартен фуркад демонстра...      0\n",
       "...                                                 ...    ...\n",
       "7081  сеть появиться первый трейлер фильм предчувств...      0\n",
       "6877  капитан махачкалинский футбольный клуб анжи ро...      0\n",
       "3401  стратегический календарь инновационный продукт...      1\n",
       "6582  форвард сборная россия хоккей александр радуло...      0\n",
       "925   сочи стартовать долгожданный кинофестиваль хор...      1\n",
       "\n",
       "[10066 rows x 2 columns]"
      ]
     },
     "execution_count": 220,
     "metadata": {},
     "output_type": "execute_result"
    }
   ],
   "source": [
    "lstm_n = pd.DataFrame()\n",
    "lstm_n[\"text\"] = preprocessor.fit_transform(news[\"text\"])\n",
    "lstm_n[\"label\"] = news[\"label\"]\n",
    "lstm_n"
   ]
  },
  {
   "cell_type": "code",
   "execution_count": 221,
   "id": "6b29bcd7-7e11-4803-8bd5-345e66b285d7",
   "metadata": {},
   "outputs": [],
   "source": [
    "from tokenizers import ByteLevelBPETokenizer\n",
    "from tokenizers.pre_tokenizers import Whitespace\n",
    "\n",
    "x_train, x_test, y_train, y_test = train_test_split(lstm_n['text'].values, lstm_n[\"label\"].values, test_size=0.2, random_state=434)\n",
    "\n",
    "tokenizer = ByteLevelBPETokenizer()\n",
    "tokenizer.pre_tokenizer = Whitespace()\n",
    "tokenizer.enable_padding(pad_id=0, pad_token='<pad>')\n",
    "\n",
    "tokenizer.train_from_iterator(\n",
    "    x_train,\n",
    "    vocab_size=5_000,\n",
    "    min_frequency=2,\n",
    "    special_tokens=['<pad>', '<unk>']\n",
    "    )"
   ]
  },
  {
   "cell_type": "code",
   "execution_count": 224,
   "id": "9cc70cd5-9cbc-4689-a618-1cfb66431c21",
   "metadata": {},
   "outputs": [],
   "source": [
    "import torch\n",
    "import torch.nn as nn\n",
    "import torch.optim as optim\n",
    "from torch.utils.data import Dataset, DataLoader\n",
    "\n",
    "class TextDataset(Dataset):\n",
    "\n",
    "    def __init__(self, tokens, labels, max_len):\n",
    "        self.tokens = tokens\n",
    "        self.labels = labels\n",
    "        self.max_len = max_len\n",
    "\n",
    "\n",
    "    def __len__(self):\n",
    "        return len(self.tokens)\n",
    "\n",
    "\n",
    "    def __getitem__(self, idx):\n",
    "        label = self.labels[idx]\n",
    "        label = torch.tensor(int(label))\n",
    "        tokens = self.tokens[idx]\n",
    "        out = torch.zeros(self.max_len, dtype=torch.long)\n",
    "        out[:len(tokens)] = torch.tensor(tokens, dtype=torch.long)[:self.max_len]\n",
    "        return out, label"
   ]
  },
  {
   "cell_type": "code",
   "execution_count": null,
   "id": "09b59091-09b0-4d57-993c-229f607e86a2",
   "metadata": {},
   "outputs": [],
   "source": [
    "train_tokens = [tokenizer.encode(str(text)).ids for text in list(x_train)]\n",
    "test_tokens = [tokenizer.encode(str(text)).ids for text in list(x_test)]\n",
    "train_tokens"
   ]
  },
  {
   "cell_type": "markdown",
   "id": "85938082-93b8-40a5-a0a6-450096c6c0d0",
   "metadata": {},
   "source": [
    "График для оценки длин списков токенов"
   ]
  },
  {
   "cell_type": "code",
   "execution_count": 226,
   "id": "7eb23038-04f4-481a-b8cd-0fa7047e7383",
   "metadata": {},
   "outputs": [
    {
     "data": {
      "text/plain": [
       "[<matplotlib.lines.Line2D at 0x7f4769109ea0>]"
      ]
     },
     "execution_count": 226,
     "metadata": {},
     "output_type": "execute_result"
    },
    {
     "data": {
      "image/png": "[encoded data removed]",
      "text/plain": [
       "<Figure size 640x480 with 1 Axes>"
      ]
     },
     "metadata": {},
     "output_type": "display_data"
    }
   ],
   "source": [
    "plt.plot(sorted([len(arr) for arr in train_tokens]))"
   ]
  },
  {
   "cell_type": "code",
   "execution_count": 227,
   "id": "3b2886f5-dcab-42e5-8a9c-666c21be9a56",
   "metadata": {},
   "outputs": [],
   "source": [
    "BATCH_SIZE = 32\n",
    "max_len = 1000\n",
    "\n",
    "train_dataset = TextDataset(train_tokens, y_train, 1000)\n",
    "train_loader = DataLoader(train_dataset, batch_size=BATCH_SIZE, shuffle=True)\n",
    "\n",
    "test_dataset = TextDataset(test_tokens, y_test, 1000)\n",
    "test_loader = DataLoader(test_dataset, batch_size=BATCH_SIZE, shuffle=False)"
   ]
  },
  {
   "cell_type": "markdown",
   "id": "5aa8a3b8-8fd6-464d-a2ed-7cf9a2eb00c4",
   "metadata": {},
   "source": [
    "#### Класс модели\n",
    "сам слой лстм + слои для предобработки, нормализации и регуляризации"
   ]
  },
  {
   "cell_type": "code",
   "execution_count": 228,
   "id": "92e044e2-fb93-4a9d-bd42-751b52401803",
   "metadata": {},
   "outputs": [],
   "source": [
    "class LSTM_classifier(nn.Module):\n",
    "    def __init__(self, hidden_dim=128, vocab_size=5000, embedding_dim=300, linear_dim=128, dropout=0.3, n_classes=2):\n",
    "        super().__init__()\n",
    "        self.embedding_layer = nn.Embedding(vocab_size, embedding_dim)\n",
    "        self.lstm_layer = nn.LSTM(embedding_dim, hidden_dim, batch_first=True, bidirectional=True)\n",
    "        self.dropout_layer = nn.Dropout(dropout)        \n",
    "        self.fc_layer = nn.Linear(hidden_dim * 2, linear_dim)\n",
    "        self.batchnorm = nn.BatchNorm1d(linear_dim)\n",
    "        self.relu = nn.ReLU()\n",
    "        self.out_layer = nn.Linear(linear_dim, n_classes)\n",
    "\n",
    "\n",
    "    def forward(self, inputs):\n",
    "        batch_size = inputs.size(0)\n",
    "        embeddings = self.embedding_layer(inputs)\n",
    "        lstm_out, (ht, ct) = self.lstm_layer(embeddings)\n",
    "        out = ht.transpose(0, 1)\n",
    "        out = out.reshape(batch_size, -1)\n",
    "        out = self.fc_layer(out)\n",
    "        out = self.batchnorm(out)\n",
    "        out = self.relu(out)\n",
    "        out = self.dropout_layer(out)\n",
    "        out = self.out_layer(out)\n",
    "        out = torch.squeeze(out, 1)\n",
    "        out = torch.sigmoid(out)\n",
    "        return out\n",
    "\n",
    "def init_weights(m):\n",
    "    if isinstance(m, nn.Linear):\n",
    "        torch.nn.init.xavier_uniform_(m.weight)\n",
    "        m.bias.data.fill_(0.01)\n",
    "\n",
    "device = torch.device(\"cuda:0\" if torch.cuda.is_available() else \"cpu\")"
   ]
  },
  {
   "cell_type": "code",
   "execution_count": 261,
   "id": "7824390f-77e8-411f-b48a-6eeeb64b5c33",
   "metadata": {},
   "outputs": [
    {
     "name": "stderr",
     "output_type": "stream",
     "text": [
      "huggingface/tokenizers: The current process just got forked, after parallelism has already been used. Disabling parallelism to avoid deadlocks...\n",
      "To disable this warning, you can either:\n",
      "\t- Avoid using `tokenizers` before the fork if possible\n",
      "\t- Explicitly set the environment variable TOKENIZERS_PARALLELISM=(true | false)\n"
     ]
    },
    {
     "name": "stdout",
     "output_type": "stream",
     "text": [
      "Defaulting to user installation because normal site-packages is not writeable\n",
      "Requirement already satisfied: wordcloud in /home/sofia/.local/lib/python3.10/site-packages (1.9.3)\n",
      "Requirement already satisfied: matplotlib in /home/sofia/.local/lib/python3.10/site-packages (from wordcloud) (3.8.2)\n",
      "Requirement already satisfied: numpy>=1.6.1 in /home/sofia/.local/lib/python3.10/site-packages (from wordcloud) (1.23.5)\n",
      "Requirement already satisfied: pillow in /usr/lib/python3/dist-packages (from wordcloud) (9.0.1)\n",
      "Requirement already satisfied: pyparsing>=2.3.1 in /usr/lib/python3/dist-packages (from matplotlib->wordcloud) (2.4.7)\n",
      "Requirement already satisfied: kiwisolver>=1.3.1 in /home/sofia/.local/lib/python3.10/site-packages (from matplotlib->wordcloud) (1.4.5)\n",
      "Requirement already satisfied: packaging>=20.0 in /usr/lib/python3/dist-packages (from matplotlib->wordcloud) (21.3)\n",
      "Requirement already satisfied: python-dateutil>=2.7 in /home/sofia/.local/lib/python3.10/site-packages (from matplotlib->wordcloud) (2.8.2)\n",
      "Requirement already satisfied: cycler>=0.10 in /home/sofia/.local/lib/python3.10/site-packages (from matplotlib->wordcloud) (0.12.1)\n",
      "Requirement already satisfied: fonttools>=4.22.0 in /home/sofia/.local/lib/python3.10/site-packages (from matplotlib->wordcloud) (4.47.2)\n",
      "Requirement already satisfied: contourpy>=1.0.1 in /home/sofia/.local/lib/python3.10/site-packages (from matplotlib->wordcloud) (1.2.0)\n",
      "Requirement already satisfied: six>=1.5 in /usr/lib/python3/dist-packages (from python-dateutil>=2.7->matplotlib->wordcloud) (1.16.0)\n"
     ]
    }
   ],
   "source": [
    "!pip install wordcloud\n",
    "import pandas as pd\n",
    "import numpy as np\n",
    "import matplotlib.pyplot as plt\n",
    "from tqdm import tqdm \n",
    "\n",
    "import torch\n",
    "import torch.nn as nn\n",
    "import torch.optim as optim\n",
    "from torch.utils.data import Dataset, DataLoader\n",
    "\n",
    "from tokenizers import ByteLevelBPETokenizer\n",
    "from tokenizers.pre_tokenizers import Whitespace\n",
    "\n",
    "from wordcloud import WordCloud\n",
    "\n",
    "from sklearn.model_selection import train_test_split\n",
    "from sklearn.metrics import f1_score, classification_report\n",
    "def eval_nn(model, data_loader):\n",
    "    predicted = []\n",
    "    labels = []\n",
    "    model.eval()\n",
    "    with torch.no_grad():\n",
    "        for data in data_loader:\n",
    "            x, y = data\n",
    "            x = x.to(device)\n",
    "            outputs = model(x)\n",
    "            _, predict = torch.max(outputs.data, 1)\n",
    "            predict = predict.cpu().detach().numpy().tolist()\n",
    "            predicted += predict\n",
    "            labels += y\n",
    "        score = f1_score(labels, predicted, average='binary')\n",
    "    return score, predicted"
   ]
  },
  {
   "cell_type": "code",
   "execution_count": 262,
   "id": "e10ab396-eebb-48e2-98da-17d15ebdf881",
   "metadata": {},
   "outputs": [],
   "source": [
    "from tqdm import tqdm \n",
    "def train_nn(model, optimizer, loss_function, train_loader, test_loader, device, epochs=20):\n",
    "    best_score = 0\n",
    "    for epoch in tqdm(range(epochs)):\n",
    "        model.train()\n",
    "        for inputs, labels in tqdm(train_loader):\n",
    "            inputs, labels = inputs.to(device), labels.to(device)\n",
    "            optimizer.zero_grad()\n",
    "            predict = model(inputs)\n",
    "            loss = loss_function(predict, labels)\n",
    "            loss.backward()\n",
    "            optimizer.step()\n",
    "        score, _ = eval_nn(model, test_loader)\n",
    "        print(epoch, 'valid:', score)\n",
    "        if score > best_score:\n",
    "            torch.save(model.state_dict(), 'lstm.pt')\n",
    "            best_score = score\n",
    "    return best_score\n",
    "\n",
    "model = LSTM_classifier(hidden_dim=256, vocab_size=5000, embedding_dim=300, linear_dim=128, dropout=0.1)   "
   ]
  },
  {
   "cell_type": "code",
   "execution_count": 264,
   "id": "bc730fe7-f2c7-4017-ae8d-b7cce48da3a1",
   "metadata": {},
   "outputs": [
    {
     "data": {
      "text/plain": [
       "LSTM_classifier(\n",
       "  (embedding_layer): Embedding(5000, 300)\n",
       "  (lstm_layer): LSTM(300, 256, batch_first=True, bidirectional=True)\n",
       "  (dropout_layer): Dropout(p=0.1, inplace=False)\n",
       "  (fc_layer): Linear(in_features=512, out_features=128, bias=True)\n",
       "  (batchnorm): BatchNorm1d(128, eps=1e-05, momentum=0.1, affine=True, track_running_stats=True)\n",
       "  (relu): ReLU()\n",
       "  (out_layer): Linear(in_features=128, out_features=2, bias=True)\n",
       ")"
      ]
     },
     "execution_count": 264,
     "metadata": {},
     "output_type": "execute_result"
    }
   ],
   "source": [
    "model.apply(init_weights)\n",
    "model.to(device)"
   ]
  },
  {
   "cell_type": "code",
   "execution_count": 267,
   "id": "80529c7b-d60d-419d-8183-022feceab17b",
   "metadata": {},
   "outputs": [
    {
     "name": "stderr",
     "output_type": "stream",
     "text": [
      "  0%|                                                     | 0/1 [00:00<?, ?it/s]\n",
      "  0%|                                                   | 0/252 [00:00<?, ?it/s]\u001b[A\n",
      "  1%|▎                                          | 2/252 [00:00<00:18, 13.65it/s]\u001b[A\n",
      "  2%|▋                                          | 4/252 [00:00<00:19, 12.53it/s]\u001b[A\n",
      "  2%|█                                          | 6/252 [00:00<00:19, 12.48it/s]\u001b[A\n",
      "  3%|█▎                                         | 8/252 [00:00<00:19, 12.42it/s]\u001b[A\n",
      "  4%|█▋                                        | 10/252 [00:00<00:19, 12.40it/s]\u001b[A\n",
      "  5%|██                                        | 12/252 [00:00<00:19, 12.37it/s]\u001b[A\n",
      "  6%|██▎                                       | 14/252 [00:01<00:19, 12.34it/s]\u001b[A\n",
      "  6%|██▋                                       | 16/252 [00:01<00:19, 12.29it/s]\u001b[A\n",
      "  7%|███                                       | 18/252 [00:01<00:19, 12.27it/s]\u001b[A\n",
      "  8%|███▎                                      | 20/252 [00:01<00:18, 12.28it/s]\u001b[A\n",
      "  9%|███▋                                      | 22/252 [00:01<00:18, 12.27it/s]\u001b[A\n",
      " 10%|████                                      | 24/252 [00:01<00:18, 12.29it/s]\u001b[A\n",
      " 10%|████▎                                     | 26/252 [00:02<00:18, 12.29it/s]\u001b[A\n",
      " 11%|████▋                                     | 28/252 [00:02<00:18, 12.29it/s]\u001b[A\n",
      " 12%|█████                                     | 30/252 [00:02<00:18, 12.26it/s]\u001b[A\n",
      " 13%|█████▎                                    | 32/252 [00:02<00:17, 12.27it/s]\u001b[A\n",
      " 13%|█████▋                                    | 34/252 [00:02<00:17, 12.25it/s]\u001b[A\n",
      " 14%|██████                                    | 36/252 [00:02<00:17, 12.27it/s]\u001b[A\n",
      " 15%|██████▎                                   | 38/252 [00:03<00:17, 12.27it/s]\u001b[A\n",
      " 16%|██████▋                                   | 40/252 [00:03<00:17, 12.27it/s]\u001b[A\n",
      " 17%|███████                                   | 42/252 [00:03<00:17, 12.26it/s]\u001b[A\n",
      " 17%|███████▎                                  | 44/252 [00:03<00:17, 12.23it/s]\u001b[A\n",
      " 18%|███████▋                                  | 46/252 [00:03<00:16, 12.23it/s]\u001b[A\n",
      " 19%|████████                                  | 48/252 [00:03<00:16, 12.25it/s]\u001b[A\n",
      " 20%|████████▎                                 | 50/252 [00:04<00:16, 12.27it/s]\u001b[A\n",
      " 21%|████████▋                                 | 52/252 [00:04<00:16, 12.27it/s]\u001b[A\n",
      " 21%|█████████                                 | 54/252 [00:04<00:16, 12.25it/s]\u001b[A\n",
      " 22%|█████████▎                                | 56/252 [00:04<00:16, 12.23it/s]\u001b[A\n",
      " 23%|█████████▋                                | 58/252 [00:04<00:15, 12.22it/s]\u001b[A\n",
      " 24%|██████████                                | 60/252 [00:04<00:15, 12.22it/s]\u001b[A\n",
      " 25%|██████████▎                               | 62/252 [00:05<00:15, 12.23it/s]\u001b[A\n",
      " 25%|██████████▋                               | 64/252 [00:05<00:15, 12.24it/s]\u001b[A\n",
      " 26%|███████████                               | 66/252 [00:05<00:15, 12.20it/s]\u001b[A\n",
      " 27%|███████████▎                              | 68/252 [00:05<00:15, 12.19it/s]\u001b[A\n",
      " 28%|███████████▋                              | 70/252 [00:05<00:14, 12.20it/s]\u001b[A\n",
      " 29%|████████████                              | 72/252 [00:05<00:14, 12.22it/s]\u001b[A\n",
      " 29%|████████████▎                             | 74/252 [00:06<00:14, 12.23it/s]\u001b[A\n",
      " 30%|████████████▋                             | 76/252 [00:06<00:14, 12.23it/s]\u001b[A\n",
      " 31%|█████████████                             | 78/252 [00:06<00:14, 12.20it/s]\u001b[A\n",
      " 32%|█████████████▎                            | 80/252 [00:06<00:14, 12.19it/s]\u001b[A\n",
      " 33%|█████████████▋                            | 82/252 [00:06<00:13, 12.21it/s]\u001b[A\n",
      " 33%|██████████████                            | 84/252 [00:06<00:13, 12.22it/s]\u001b[A\n",
      " 34%|██████████████▎                           | 86/252 [00:07<00:13, 12.23it/s]\u001b[A\n",
      " 35%|██████████████▋                           | 88/252 [00:07<00:13, 12.21it/s]\u001b[A\n",
      " 36%|███████████████                           | 90/252 [00:07<00:13, 12.19it/s]\u001b[A\n",
      " 37%|███████████████▎                          | 92/252 [00:07<00:13, 12.19it/s]\u001b[A\n",
      " 37%|███████████████▋                          | 94/252 [00:07<00:12, 12.17it/s]\u001b[A\n",
      " 38%|████████████████                          | 96/252 [00:07<00:12, 12.16it/s]\u001b[A\n",
      " 39%|████████████████▎                         | 98/252 [00:07<00:12, 12.16it/s]\u001b[A\n",
      " 40%|████████████████▎                        | 100/252 [00:08<00:12, 12.16it/s]\u001b[A\n",
      " 40%|████████████████▌                        | 102/252 [00:08<00:12, 12.16it/s]\u001b[A\n",
      " 41%|████████████████▉                        | 104/252 [00:08<00:12, 12.16it/s]\u001b[A\n",
      " 42%|█████████████████▏                       | 106/252 [00:08<00:12, 12.16it/s]\u001b[A\n",
      " 43%|█████████████████▌                       | 108/252 [00:08<00:11, 12.15it/s]\u001b[A\n",
      " 44%|█████████████████▉                       | 110/252 [00:08<00:11, 12.16it/s]\u001b[A\n",
      " 44%|██████████████████▏                      | 112/252 [00:09<00:11, 12.16it/s]\u001b[A\n",
      " 45%|██████████████████▌                      | 114/252 [00:09<00:11, 12.15it/s]\u001b[A\n",
      " 46%|██████████████████▊                      | 116/252 [00:09<00:11, 12.15it/s]\u001b[A\n",
      " 47%|███████████████████▏                     | 118/252 [00:09<00:11, 12.16it/s]\u001b[A\n",
      " 48%|███████████████████▌                     | 120/252 [00:09<00:10, 12.17it/s]\u001b[A\n",
      " 48%|███████████████████▊                     | 122/252 [00:09<00:10, 12.17it/s]\u001b[A\n",
      " 49%|████████████████████▏                    | 124/252 [00:10<00:10, 12.14it/s]\u001b[A\n",
      " 50%|████████████████████▌                    | 126/252 [00:10<00:10, 12.14it/s]\u001b[A\n",
      " 51%|████████████████████▊                    | 128/252 [00:10<00:10, 12.14it/s]\u001b[A\n",
      " 52%|█████████████████████▏                   | 130/252 [00:10<00:10, 12.13it/s]\u001b[A\n",
      " 52%|█████████████████████▍                   | 132/252 [00:10<00:09, 12.12it/s]\u001b[A\n",
      " 53%|█████████████████████▊                   | 134/252 [00:10<00:09, 12.13it/s]\u001b[A\n",
      " 54%|██████████████████████▏                  | 136/252 [00:11<00:09, 12.14it/s]\u001b[A\n",
      " 55%|██████████████████████▍                  | 138/252 [00:11<00:09, 12.12it/s]\u001b[A\n",
      " 56%|██████████████████████▊                  | 140/252 [00:11<00:09, 12.11it/s]\u001b[A\n",
      " 56%|███████████████████████                  | 142/252 [00:11<00:09, 12.11it/s]\u001b[A\n",
      " 57%|███████████████████████▍                 | 144/252 [00:11<00:08, 12.10it/s]\u001b[A\n",
      " 58%|███████████████████████▊                 | 146/252 [00:11<00:08, 12.10it/s]\u001b[A\n",
      " 59%|████████████████████████                 | 148/252 [00:12<00:08, 12.11it/s]\u001b[A\n",
      " 60%|████████████████████████▍                | 150/252 [00:12<00:08, 12.11it/s]\u001b[A\n",
      " 60%|████████████████████████▋                | 152/252 [00:12<00:08, 12.12it/s]\u001b[A\n",
      " 61%|█████████████████████████                | 154/252 [00:12<00:08, 12.12it/s]\u001b[A\n",
      " 62%|█████████████████████████▍               | 156/252 [00:12<00:07, 12.11it/s]\u001b[A\n",
      " 63%|█████████████████████████▋               | 158/252 [00:12<00:07, 12.12it/s]\u001b[A\n",
      " 63%|██████████████████████████               | 160/252 [00:13<00:07, 12.13it/s]\u001b[A\n",
      " 64%|██████████████████████████▎              | 162/252 [00:13<00:07, 12.12it/s]\u001b[A\n",
      " 65%|██████████████████████████▋              | 164/252 [00:13<00:07, 12.11it/s]\u001b[A\n",
      " 66%|███████████████████████████              | 166/252 [00:13<00:07, 12.10it/s]\u001b[A\n",
      " 67%|███████████████████████████▎             | 168/252 [00:13<00:06, 12.11it/s]\u001b[A\n",
      " 67%|███████████████████████████▋             | 170/252 [00:13<00:06, 12.11it/s]\u001b[A\n",
      " 68%|███████████████████████████▉             | 172/252 [00:14<00:06, 12.10it/s]\u001b[A\n",
      " 69%|████████████████████████████▎            | 174/252 [00:14<00:06, 12.10it/s]\u001b[A\n",
      " 70%|████████████████████████████▋            | 176/252 [00:14<00:06, 12.10it/s]\u001b[A\n",
      " 71%|████████████████████████████▉            | 178/252 [00:14<00:06, 12.08it/s]\u001b[A\n",
      " 71%|█████████████████████████████▎           | 180/252 [00:14<00:05, 12.10it/s]\u001b[A\n",
      " 72%|█████████████████████████████▌           | 182/252 [00:14<00:05, 12.12it/s]\u001b[A\n",
      " 73%|█████████████████████████████▉           | 184/252 [00:15<00:05, 12.11it/s]\u001b[A\n",
      " 74%|██████████████████████████████▎          | 186/252 [00:15<00:05, 12.11it/s]\u001b[A\n",
      " 75%|██████████████████████████████▌          | 188/252 [00:15<00:05, 12.11it/s]\u001b[A\n",
      " 75%|██████████████████████████████▉          | 190/252 [00:15<00:05, 12.10it/s]\u001b[A\n",
      " 76%|███████████████████████████████▏         | 192/252 [00:15<00:04, 12.10it/s]\u001b[A\n",
      " 77%|███████████████████████████████▌         | 194/252 [00:15<00:04, 12.10it/s]\u001b[A\n",
      " 78%|███████████████████████████████▉         | 196/252 [00:16<00:04, 12.10it/s]\u001b[A\n",
      " 79%|████████████████████████████████▏        | 198/252 [00:16<00:04, 12.10it/s]\u001b[A\n",
      " 79%|████████████████████████████████▌        | 200/252 [00:16<00:04, 12.12it/s]\u001b[A\n",
      " 80%|████████████████████████████████▊        | 202/252 [00:16<00:04, 12.13it/s]\u001b[A\n",
      " 81%|█████████████████████████████████▏       | 204/252 [00:16<00:03, 12.13it/s]\u001b[A\n",
      " 82%|█████████████████████████████████▌       | 206/252 [00:16<00:03, 12.14it/s]\u001b[A\n",
      " 83%|█████████████████████████████████▊       | 208/252 [00:17<00:03, 12.11it/s]\u001b[A\n",
      " 83%|██████████████████████████████████▏      | 210/252 [00:17<00:03, 12.12it/s]\u001b[A\n",
      " 84%|██████████████████████████████████▍      | 212/252 [00:17<00:03, 12.11it/s]\u001b[A\n",
      " 85%|██████████████████████████████████▊      | 214/252 [00:17<00:03, 12.12it/s]\u001b[A\n",
      " 86%|███████████████████████████████████▏     | 216/252 [00:17<00:02, 12.12it/s]\u001b[A\n",
      " 87%|███████████████████████████████████▍     | 218/252 [00:17<00:02, 12.13it/s]\u001b[A\n",
      " 87%|███████████████████████████████████▊     | 220/252 [00:18<00:02, 12.13it/s]\u001b[A\n",
      " 88%|████████████████████████████████████     | 222/252 [00:18<00:02, 12.13it/s]\u001b[A\n",
      " 89%|████████████████████████████████████▍    | 224/252 [00:18<00:02, 12.11it/s]\u001b[A\n",
      " 90%|████████████████████████████████████▊    | 226/252 [00:18<00:02, 12.11it/s]\u001b[A\n",
      " 90%|█████████████████████████████████████    | 228/252 [00:18<00:01, 12.11it/s]\u001b[A\n",
      " 91%|█████████████████████████████████████▍   | 230/252 [00:18<00:01, 12.10it/s]\u001b[A\n",
      " 92%|█████████████████████████████████████▋   | 232/252 [00:19<00:01, 12.11it/s]\u001b[A\n",
      " 93%|██████████████████████████████████████   | 234/252 [00:19<00:01, 12.13it/s]\u001b[A\n",
      " 94%|██████████████████████████████████████▍  | 236/252 [00:19<00:01, 12.14it/s]\u001b[A\n",
      " 94%|██████████████████████████████████████▋  | 238/252 [00:19<00:01, 12.12it/s]\u001b[A\n",
      " 95%|███████████████████████████████████████  | 240/252 [00:19<00:00, 12.11it/s]\u001b[A\n",
      " 96%|███████████████████████████████████████▎ | 242/252 [00:19<00:00, 12.11it/s]\u001b[A\n",
      " 97%|███████████████████████████████████████▋ | 244/252 [00:20<00:00, 12.11it/s]\u001b[A\n",
      " 98%|████████████████████████████████████████ | 246/252 [00:20<00:00, 12.10it/s]\u001b[A\n",
      " 98%|████████████████████████████████████████▎| 248/252 [00:20<00:00, 12.11it/s]\u001b[A\n",
      " 99%|████████████████████████████████████████▋| 250/252 [00:20<00:00, 12.12it/s]\u001b[A\n",
      "100%|█████████████████████████████████████████| 252/252 [00:20<00:00, 12.18it/s]\u001b[A\n"
     ]
    },
    {
     "data": {
      "text/html": [
       "<pre style=\"white-space:pre;overflow-x:auto;line-height:normal;font-family:Menlo,'DejaVu Sans Mono',consolas,'Courier New',monospace\"><span style=\"color: #008080; text-decoration-color: #008080; font-weight: bold\">0</span> valid: <span style=\"color: #008080; text-decoration-color: #008080; font-weight: bold\">0.9599012954966071</span>\n",
       "</pre>\n"
      ],
      "text/plain": [
       "\u001b[1;36m0\u001b[0m valid: \u001b[1;36m0.9599012954966071\u001b[0m\n"
      ]
     },
     "metadata": {},
     "output_type": "display_data"
    },
    {
     "name": "stderr",
     "output_type": "stream",
     "text": [
      "100%|█████████████████████████████████████████████| 1/1 [00:22<00:00, 22.69s/it]\n"
     ]
    },
    {
     "data": {
      "text/plain": [
       "0.9599012954966071"
      ]
     },
     "execution_count": 267,
     "metadata": {},
     "output_type": "execute_result"
    }
   ],
   "source": [
    "optimizer = optim.AdamW(model.parameters())\n",
    "loss_function = nn.CrossEntropyLoss().to(device)\n",
    "\n",
    "train_nn(model, optimizer, loss_function, train_loader, test_loader, device, epochs=1)"
   ]
  },
  {
   "cell_type": "code",
   "execution_count": 268,
   "id": "e796faa8-7d6a-43df-908c-524239ab9193",
   "metadata": {},
   "outputs": [
    {
     "data": {
      "text/html": [
       "<pre style=\"white-space:pre;overflow-x:auto;line-height:normal;font-family:Menlo,'DejaVu Sans Mono',consolas,'Courier New',monospace\">              precision    recall  f1-score   support\n",
       "\n",
       "           <span style=\"color: #008080; text-decoration-color: #008080; font-weight: bold\">0</span>       <span style=\"color: #008080; text-decoration-color: #008080; font-weight: bold\">0.96</span>      <span style=\"color: #008080; text-decoration-color: #008080; font-weight: bold\">0.98</span>      <span style=\"color: #008080; text-decoration-color: #008080; font-weight: bold\">0.97</span>      <span style=\"color: #008080; text-decoration-color: #008080; font-weight: bold\">1190</span>\n",
       "           <span style=\"color: #008080; text-decoration-color: #008080; font-weight: bold\">1</span>       <span style=\"color: #008080; text-decoration-color: #008080; font-weight: bold\">0.98</span>      <span style=\"color: #008080; text-decoration-color: #008080; font-weight: bold\">0.94</span>      <span style=\"color: #008080; text-decoration-color: #008080; font-weight: bold\">0.96</span>       <span style=\"color: #008080; text-decoration-color: #008080; font-weight: bold\">824</span>\n",
       "\n",
       "    accuracy                           <span style=\"color: #008080; text-decoration-color: #008080; font-weight: bold\">0.97</span>      <span style=\"color: #008080; text-decoration-color: #008080; font-weight: bold\">2014</span>\n",
       "   macro avg       <span style=\"color: #008080; text-decoration-color: #008080; font-weight: bold\">0.97</span>      <span style=\"color: #008080; text-decoration-color: #008080; font-weight: bold\">0.96</span>      <span style=\"color: #008080; text-decoration-color: #008080; font-weight: bold\">0.97</span>      <span style=\"color: #008080; text-decoration-color: #008080; font-weight: bold\">2014</span>\n",
       "weighted avg       <span style=\"color: #008080; text-decoration-color: #008080; font-weight: bold\">0.97</span>      <span style=\"color: #008080; text-decoration-color: #008080; font-weight: bold\">0.97</span>      <span style=\"color: #008080; text-decoration-color: #008080; font-weight: bold\">0.97</span>      <span style=\"color: #008080; text-decoration-color: #008080; font-weight: bold\">2014</span>\n",
       "\n",
       "</pre>\n"
      ],
      "text/plain": [
       "              precision    recall  f1-score   support\n",
       "\n",
       "           \u001b[1;36m0\u001b[0m       \u001b[1;36m0.96\u001b[0m      \u001b[1;36m0.98\u001b[0m      \u001b[1;36m0.97\u001b[0m      \u001b[1;36m1190\u001b[0m\n",
       "           \u001b[1;36m1\u001b[0m       \u001b[1;36m0.98\u001b[0m      \u001b[1;36m0.94\u001b[0m      \u001b[1;36m0.96\u001b[0m       \u001b[1;36m824\u001b[0m\n",
       "\n",
       "    accuracy                           \u001b[1;36m0.97\u001b[0m      \u001b[1;36m2014\u001b[0m\n",
       "   macro avg       \u001b[1;36m0.97\u001b[0m      \u001b[1;36m0.96\u001b[0m      \u001b[1;36m0.97\u001b[0m      \u001b[1;36m2014\u001b[0m\n",
       "weighted avg       \u001b[1;36m0.97\u001b[0m      \u001b[1;36m0.97\u001b[0m      \u001b[1;36m0.97\u001b[0m      \u001b[1;36m2014\u001b[0m\n",
       "\n"
      ]
     },
     "metadata": {},
     "output_type": "display_data"
    }
   ],
   "source": [
    "_, preds = eval_nn(model, test_loader)\n",
    "print(classification_report(y_test, preds))"
   ]
  },
  {
   "cell_type": "markdown",
   "id": "9fe79deb",
   "metadata": {},
   "source": [
    "#### **Вывод**:  \n",
    "Результат тоже хороший. В моём случае можно использовать любую модель для классификации."
   ]
  },
  {
   "cell_type": "markdown",
   "id": "a6c02822-5c8e-40d5-9dbe-bf26c0ee517c",
   "metadata": {},
   "source": [
    "## 4. Поиск факта продажи в тексте\n",
    "После того, как мы определили, присутствует ли реклама в тексте, перейдем к нахождению ее места. Так как это задача NER, в первую очередь я начала искать русскоязычные модели. Большинство из них содержат только теги LOC, ORG, PER и работают с невысокой точностью. Датасета для определения места рекламы в тексте я не нашла, а при разметке с помощью ЛЛМ случались казусы со съездом разметки.\n",
    "\n",
    "Так мне пришла идея, искать тег организации в тексте, что это скорее всего будет показывать место, где продают товар/событие. Однако многие из моделей (такие как scipy, natasha, ner_slav_bert) работают через раз на моем датасете. Потом я подумала искать по ключевым словам вроде \"приобретите\", \"попробуйте\", но отказалась от этой идеи так так могу упустить возможные места рекламы.\n",
    "\n",
    "Потом я проанализировала текста в датасете и заметила, что многие содержат Call-to-action. Я нашла только немецкую языковую версию берта, чтобы классифицировать побуждающие предложения.\n",
    "\n",
    "**Моя конечная идея:**\n",
    "1. Прогоняю текст через классификатор рекламы\n",
    "2. Положительно классифицированные прогоняю через немецкий берт на предмет побуждения к действию (купить, посетить, пользоваться)\n",
    "3. Если предыдущий пункт ничего не дал, то ищу имя организации (с помощью русской scipy) и выбираю предложение с ним\n",
    "4. при ненахождении оставляю как есть."
   ]
  },
  {
   "cell_type": "code",
   "execution_count": null,
   "id": "f20e6e1e-5a01-49ff-9bc3-46efcf4ddd12",
   "metadata": {},
   "outputs": [],
   "source": [
    "from transformers import BertTokenizer, BertForSequenceClassification\n",
    "import torch\n",
    "import nltk\n",
    "nltk.download('punkt') \n",
    "from nltk.tokenize import sent_tokenize\n",
    "from deep_translator import GoogleTranslator\n",
    "import spacy\n",
    "from rich import print\n",
    "\n",
    "tokenizer_ge = BertTokenizer.from_pretrained('chaichy/gbert-CTA-w-synth')\n",
    "model_ge = BertForSequenceClassification.from_pretrained('chaichy/gbert-CTA-w-synth')\n",
    "\n",
    "nlp = spacy.load(\"ru_core_news_sm\")\n",
    "X = news[\"text\"]\n",
    "y = news[\"label\"]\n",
    "\n",
    "X_train, X_test, y_train, y_test = train_test_split(X, y, test_size=0.25, random_state=42)\n",
    "model_base = LogisticRegression(max_iter=1000, class_weight='balanced', random_state=42)\n",
    "model_base.fit(vectorized_data[vectorizer_name]['train'], y_train)"
   ]
  },
  {
   "cell_type": "code",
   "execution_count": 273,
   "id": "d5a227d9-4af1-415b-bdb7-04e726b5c61f",
   "metadata": {},
   "outputs": [],
   "source": [
    "def check(text, tokenizer_ge, model_ge, model_base, vectorizer):\n",
    "    passed = False\n",
    "    sentences = sent_tokenize(text)\n",
    "    sentence_pairs = [(sentence, 0) for sentence in sentences]\n",
    "    vectorizer = vectorizers[\"CountVectorizer\"] \n",
    "    sentence_vec = vectorizer.transform([text]) \n",
    "    \n",
    "    prediction = model_base.predict(sentence_vec)\n",
    "\n",
    "    \n",
    "    if prediction[0] == 0:\n",
    "        return sentence_pairs\n",
    "    # call to action\n",
    "    for i in range(len(sentence_pairs)):\n",
    "        inputs = tokenizer_ge(GoogleTranslator(source='russian', target='german').translate(sentence_pairs[i][0]), return_tensors=\"pt\")\n",
    "        outputs = model_ge(**inputs)\n",
    "        logits = outputs.logits\n",
    "        predicted_class = torch.argmax(logits, dim=1).item()\n",
    "        if predicted_class:\n",
    "            passed = True\n",
    "            sentence_pairs[i] = (sentence_pairs[i][0], predicted_class)\n",
    "    if passed:\n",
    "        return sentence_pairs\n",
    "    # tags\n",
    "    for i in range(len(sentence_pairs)):\n",
    "        doc = nlp(sentence_pairs[i][0])\n",
    "        for ent in doc.ents:\n",
    "            if ent.label_ == \"ORG\":\n",
    "                passed = True\n",
    "                sentence_pairs[i] = (sentence_pairs[i][0], 1)\n",
    "    if passed:\n",
    "        return sentence_pairs\n",
    "\n",
    "def pretty_print(sentence_pairs):\n",
    "    output = \" \".join([f\"[green]{text}[/green]\" if flag == 1 else f\"[white]{text}[/white]\" for text, flag in sentence_pairs])\n",
    "    print(output)"
   ]
  },
  {
   "cell_type": "markdown",
   "id": "66cfdc29",
   "metadata": {},
   "source": [
    "### Возьмём эти четыре текста в качестве демонстрации и прогоним через модель"
   ]
  },
  {
   "cell_type": "code",
   "execution_count": 30,
   "id": "64fe2014-4641-4900-ac15-299447f07eec",
   "metadata": {},
   "outputs": [],
   "source": [
    "request_text_0 = \"\"\"Казань, столица Татарстана, вновь встречает лучших молодых поэтов страны. В этом городе с богатой литературной историей пройдёт конкурс молодых поэтов, в котором будут выбраны лучшие из лучших.\n",
    "Организаторы конкурса приглашают всех поэтов от 18 до 35 лет принять участие в этом грандиозном событии. Поэты могут предоставить на суд жюри свои лучшие работы, которые будут оценены по таким критериям, как оригинальность, мастерство исполнения и глубина мысли.\n",
    "Победители конкурса получат возможность опубликовать свои стихи в новом сборнике, который будет выпущен к концу года. Сборник станет настоящим подарком для ценителей поэзии и будет включать лучшие произведения современных поэтов.\n",
    "Также для участников конкурса и гостей мероприятия будет организована выставка-продажа книг издательства «Поэзия Татарстана». Здесь можно будет найти сборники стихов современных авторов, а также произведения классиков татарской литературы.\n",
    "Конкурс молодых поэтов обещает стать ярким событием в культурной жизни Казани. Он откроет новые имена и даст возможность молодым поэтам заявить о себе на всю страну. А пока остаётся только ждать результатов конкурса и следить за новостями.\n",
    "\"\"\"\n",
    "request_text_1 = \"\"\"  В Тюмени появилась уникальная возможность для владельцев автомобилей LADA! Теперь вы можете провести бесплатную диагностику своего автомобиля и быть уверенными в его надёжности.\n",
    "\n",
    "Это замечательное предложение от сервиса «Автодом» позволит вам убедиться в отличном состоянии вашего авто и получить рекомендации для дальнейшего обслуживания.\n",
    "\n",
    "Специалисты сервиса проведут тщательный осмотр всех систем и агрегатов, включая двигатель, трансмиссию, подвеску, рулевое управление, тормозную систему и электрику. Вы сможете узнать о состоянии и ресурсе вашего автомобиля, а также получить профессиональные рекомендации по замене запчастей и комплектующих.\n",
    "\n",
    "Не упустите возможность воспользоваться уникальным предложением и провести качественную диагностику своего авто. Не откладывайте заботу о своём автомобиле на потом, сделайте это уже сейчас!\"\"\"\n",
    "request_text_2 = \"\"\"Праздник весны в Китае – это время ярких красок, безудержного веселья и, конечно же, подарков! В эти дни принято дарить близким сувениры, которые будут напоминать о тёплых семейных встречах.\n",
    "\n",
    "В этом году праздник обещает быть особенно радостным и запоминающимся. Ведь к нему можно подготовиться заранее – подобрать уникальные и оригинальные сувениры от PartyGoods. Они станут идеальным подарком для друзей и близких, а также будут радовать их долгое время.\n",
    "z\n",
    "Сувениры от PartyGoods созданы с любовью и заботой о каждом клиенте. Они сочетают в себе высокое качество, уникальный дизайн и доступную цену. \"\"\"\n",
    "request_text_3 = \"\"\"Нью-Йорк, 23 ноября 2023 года. В преддверии Дня благодарения в Нью-Йорке состоится викторина по истории США. В интеллектуальном соревновании смогут принять участие все желающие. Викторина позволит проверить свои знания и узнать много нового о жизни в Соединённых Штатах.\n",
    "Вопросы будут касаться всех периодов американской истории. Участники смогут проявить свою эрудицию и сообразительность. А самые удачливые — получить ценные призы.\n",
    "Имена победителей будут опубликованы в социальных сетях организаторов.\n",
    "Викторина проводится при поддержке бренда «Оригинальные сувениры», который подготовил особенные призы для участников. Среди подарков — уникальные исторические сувениры, которые позволят сохранить память об этом событии.\n",
    "Не упустите возможность проверить свои знания, интересно провести время и получить ценные призы!\n",
    "\"\"\"\n"
   ]
  },
  {
   "cell_type": "markdown",
   "id": "9b68ad50-efd0-4790-b239-2731c6241473",
   "metadata": {},
   "source": [
    "0. Текст не являющийся рекламой"
   ]
  },
  {
   "cell_type": "code",
   "execution_count": 279,
   "id": "078eaa7c-ff2f-484c-af5b-5bb6ea23cb91",
   "metadata": {},
   "outputs": [
    {
     "data": {
      "text/html": [
       "<pre style=\"white-space:pre;overflow-x:auto;line-height:normal;font-family:Menlo,'DejaVu Sans Mono',consolas,'Courier New',monospace\"><span style=\"color: #c0c0c0; text-decoration-color: #c0c0c0\">Казань, столица Татарстана, вновь встречает лучших молодых поэтов страны.</span> <span style=\"color: #c0c0c0; text-decoration-color: #c0c0c0\">В этом городе с богатой литературной </span>\n",
       "<span style=\"color: #c0c0c0; text-decoration-color: #c0c0c0\">историей пройдёт конкурс молодых поэтов, в котором будут выбраны лучшие из лучших.</span> <span style=\"color: #c0c0c0; text-decoration-color: #c0c0c0\">Организаторы конкурса приглашают</span>\n",
       "<span style=\"color: #c0c0c0; text-decoration-color: #c0c0c0\">всех поэтов от </span><span style=\"color: #c0c0c0; text-decoration-color: #c0c0c0; font-weight: bold\">18</span><span style=\"color: #c0c0c0; text-decoration-color: #c0c0c0\"> до </span><span style=\"color: #c0c0c0; text-decoration-color: #c0c0c0; font-weight: bold\">35</span><span style=\"color: #c0c0c0; text-decoration-color: #c0c0c0\"> лет принять участие в этом грандиозном событии.</span> <span style=\"color: #c0c0c0; text-decoration-color: #c0c0c0\">Поэты могут предоставить на суд жюри свои </span>\n",
       "<span style=\"color: #c0c0c0; text-decoration-color: #c0c0c0\">лучшие работы, которые будут оценены по таким критериям, как оригинальность, мастерство исполнения и глубина мысли.</span>\n",
       "<span style=\"color: #c0c0c0; text-decoration-color: #c0c0c0\">Победители конкурса получат возможность опубликовать свои стихи в новом сборнике, который будет выпущен к концу </span>\n",
       "<span style=\"color: #c0c0c0; text-decoration-color: #c0c0c0\">года.</span> <span style=\"color: #c0c0c0; text-decoration-color: #c0c0c0\">Сборник станет настоящим подарком для ценителей поэзии и будет включать лучшие произведения современных </span>\n",
       "<span style=\"color: #c0c0c0; text-decoration-color: #c0c0c0\">поэтов.</span> <span style=\"color: #c0c0c0; text-decoration-color: #c0c0c0\">Также для участников конкурса и гостей мероприятия будет организована выставка-продажа книг издательства </span>\n",
       "<span style=\"color: #c0c0c0; text-decoration-color: #c0c0c0\">«Поэзия Татарстана».</span> <span style=\"color: #c0c0c0; text-decoration-color: #c0c0c0\">Здесь можно будет найти сборники стихов современных авторов, а также произведения классиков </span>\n",
       "<span style=\"color: #c0c0c0; text-decoration-color: #c0c0c0\">татарской литературы.</span> <span style=\"color: #c0c0c0; text-decoration-color: #c0c0c0\">Конкурс молодых поэтов обещает стать ярким событием в культурной жизни Казани.</span> <span style=\"color: #c0c0c0; text-decoration-color: #c0c0c0\">Он откроет </span>\n",
       "<span style=\"color: #c0c0c0; text-decoration-color: #c0c0c0\">новые имена и даст возможность молодым поэтам заявить о себе на всю страну.</span> <span style=\"color: #c0c0c0; text-decoration-color: #c0c0c0\">А пока остаётся только ждать </span>\n",
       "<span style=\"color: #c0c0c0; text-decoration-color: #c0c0c0\">результатов конкурса и следить за новостями.</span>\n",
       "</pre>\n"
      ],
      "text/plain": [
       "\u001b[37mКазань, столица Татарстана, вновь встречает лучших молодых поэтов страны.\u001b[0m \u001b[37mВ этом городе с богатой литературной \u001b[0m\n",
       "\u001b[37mисторией пройдёт конкурс молодых поэтов, в котором будут выбраны лучшие из лучших.\u001b[0m \u001b[37mОрганизаторы конкурса приглашают\u001b[0m\n",
       "\u001b[37mвсех поэтов от \u001b[0m\u001b[1;37m18\u001b[0m\u001b[37m до \u001b[0m\u001b[1;37m35\u001b[0m\u001b[37m лет принять участие в этом грандиозном событии.\u001b[0m \u001b[37mПоэты могут предоставить на суд жюри свои \u001b[0m\n",
       "\u001b[37mлучшие работы, которые будут оценены по таким критериям, как оригинальность, мастерство исполнения и глубина мысли.\u001b[0m\n",
       "\u001b[37mПобедители конкурса получат возможность опубликовать свои стихи в новом сборнике, который будет выпущен к концу \u001b[0m\n",
       "\u001b[37mгода.\u001b[0m \u001b[37mСборник станет настоящим подарком для ценителей поэзии и будет включать лучшие произведения современных \u001b[0m\n",
       "\u001b[37mпоэтов.\u001b[0m \u001b[37mТакже для участников конкурса и гостей мероприятия будет организована выставка-продажа книг издательства \u001b[0m\n",
       "\u001b[37m«Поэзия Татарстана».\u001b[0m \u001b[37mЗдесь можно будет найти сборники стихов современных авторов, а также произведения классиков \u001b[0m\n",
       "\u001b[37mтатарской литературы.\u001b[0m \u001b[37mКонкурс молодых поэтов обещает стать ярким событием в культурной жизни Казани.\u001b[0m \u001b[37mОн откроет \u001b[0m\n",
       "\u001b[37mновые имена и даст возможность молодым поэтам заявить о себе на всю страну.\u001b[0m \u001b[37mА пока остаётся только ждать \u001b[0m\n",
       "\u001b[37mрезультатов конкурса и следить за новостями.\u001b[0m\n"
      ]
     },
     "metadata": {},
     "output_type": "display_data"
    }
   ],
   "source": [
    "pretty_print(check(request_text_0,tokenizer_ge, model_ge, model_base, vectorizers[\"CountVectorizer\"]))"
   ]
  },
  {
   "cell_type": "markdown",
   "id": "0043d2b1-5316-40e2-a1c3-88b16b4cc962",
   "metadata": {},
   "source": [
    "1. Реклама с побуждением к действию"
   ]
  },
  {
   "cell_type": "code",
   "execution_count": 278,
   "id": "5206ea16-541c-4639-840d-2dc226fd3924",
   "metadata": {},
   "outputs": [
    {
     "data": {
      "text/html": [
       "<pre style=\"white-space:pre;overflow-x:auto;line-height:normal;font-family:Menlo,'DejaVu Sans Mono',consolas,'Courier New',monospace\"><span style=\"color: #c0c0c0; text-decoration-color: #c0c0c0\">  В Тюмени появилась уникальная возможность для владельцев автомобилей LADA!</span> <span style=\"color: #c0c0c0; text-decoration-color: #c0c0c0\">Теперь вы можете провести бесплатную </span>\n",
       "<span style=\"color: #c0c0c0; text-decoration-color: #c0c0c0\">диагностику своего автомобиля и быть уверенными в его надёжности.</span> <span style=\"color: #c0c0c0; text-decoration-color: #c0c0c0\">Это замечательное предложение от сервиса </span>\n",
       "<span style=\"color: #c0c0c0; text-decoration-color: #c0c0c0\">«Автодом» позволит вам убедиться в отличном состоянии вашего авто и получить рекомендации для дальнейшего </span>\n",
       "<span style=\"color: #c0c0c0; text-decoration-color: #c0c0c0\">обслуживания.</span> <span style=\"color: #c0c0c0; text-decoration-color: #c0c0c0\">Специалисты сервиса проведут тщательный осмотр всех систем и агрегатов, включая двигатель, </span>\n",
       "<span style=\"color: #c0c0c0; text-decoration-color: #c0c0c0\">трансмиссию, подвеску, рулевое управление, тормозную систему и электрику.</span> <span style=\"color: #c0c0c0; text-decoration-color: #c0c0c0\">Вы сможете узнать о состоянии и ресурсе </span>\n",
       "<span style=\"color: #c0c0c0; text-decoration-color: #c0c0c0\">вашего автомобиля, а также получить профессиональные рекомендации по замене запчастей и комплектующих.</span> <span style=\"color: #008000; text-decoration-color: #008000\">Не упустите </span>\n",
       "<span style=\"color: #008000; text-decoration-color: #008000\">возможность воспользоваться уникальным предложением и провести качественную диагностику своего авто.</span> <span style=\"color: #008000; text-decoration-color: #008000\">Не </span>\n",
       "<span style=\"color: #008000; text-decoration-color: #008000\">откладывайте заботу о своём автомобиле на потом, сделайте это уже сейчас!</span>\n",
       "</pre>\n"
      ],
      "text/plain": [
       "\u001b[37m  В Тюмени появилась уникальная возможность для владельцев автомобилей LADA!\u001b[0m \u001b[37mТеперь вы можете провести бесплатную \u001b[0m\n",
       "\u001b[37mдиагностику своего автомобиля и быть уверенными в его надёжности.\u001b[0m \u001b[37mЭто замечательное предложение от сервиса \u001b[0m\n",
       "\u001b[37m«Автодом» позволит вам убедиться в отличном состоянии вашего авто и получить рекомендации для дальнейшего \u001b[0m\n",
       "\u001b[37mобслуживания.\u001b[0m \u001b[37mСпециалисты сервиса проведут тщательный осмотр всех систем и агрегатов, включая двигатель, \u001b[0m\n",
       "\u001b[37mтрансмиссию, подвеску, рулевое управление, тормозную систему и электрику.\u001b[0m \u001b[37mВы сможете узнать о состоянии и ресурсе \u001b[0m\n",
       "\u001b[37mвашего автомобиля, а также получить профессиональные рекомендации по замене запчастей и комплектующих.\u001b[0m \u001b[32mНе упустите \u001b[0m\n",
       "\u001b[32mвозможность воспользоваться уникальным предложением и провести качественную диагностику своего авто.\u001b[0m \u001b[32mНе \u001b[0m\n",
       "\u001b[32mоткладывайте заботу о своём автомобиле на потом, сделайте это уже сейчас!\u001b[0m\n"
      ]
     },
     "metadata": {},
     "output_type": "display_data"
    }
   ],
   "source": [
    "pretty_print(check(request_text_1,tokenizer_ge, model_ge, model_base, vectorizers[\"CountVectorizer\"]))"
   ]
  },
  {
   "cell_type": "markdown",
   "id": "a09364d3-91ee-43aa-9c3c-91bdf3476fb9",
   "metadata": {},
   "source": [
    "2. Реклама с названием организации"
   ]
  },
  {
   "cell_type": "code",
   "execution_count": 276,
   "id": "7c37dbb0-ae57-4624-9b54-532b84e6aecc",
   "metadata": {},
   "outputs": [
    {
     "data": {
      "text/html": [
       "<pre style=\"white-space:pre;overflow-x:auto;line-height:normal;font-family:Menlo,'DejaVu Sans Mono',consolas,'Courier New',monospace\"><span style=\"color: #c0c0c0; text-decoration-color: #c0c0c0\">Праздник весны в Китае – это время ярких красок, безудержного веселья и, конечно же, подарков!</span> <span style=\"color: #c0c0c0; text-decoration-color: #c0c0c0\">В эти дни принято </span>\n",
       "<span style=\"color: #c0c0c0; text-decoration-color: #c0c0c0\">дарить близким сувениры, которые будут напоминать о тёплых семейных встречах.</span> <span style=\"color: #c0c0c0; text-decoration-color: #c0c0c0\">В этом году праздник обещает быть </span>\n",
       "<span style=\"color: #c0c0c0; text-decoration-color: #c0c0c0\">особенно радостным и запоминающимся.</span> <span style=\"color: #008000; text-decoration-color: #008000\">Ведь к нему можно подготовиться заранее – подобрать уникальные и оригинальные </span>\n",
       "<span style=\"color: #008000; text-decoration-color: #008000\">сувениры от PartyGoods.</span> <span style=\"color: #c0c0c0; text-decoration-color: #c0c0c0\">Они станут идеальным подарком для друзей и близких, а также будут радовать их долгое время.</span>\n",
       "<span style=\"color: #008000; text-decoration-color: #008000\">z</span>\n",
       "<span style=\"color: #008000; text-decoration-color: #008000\">Сувениры от PartyGoods созданы с любовью и заботой о каждом клиенте.</span> <span style=\"color: #c0c0c0; text-decoration-color: #c0c0c0\">Они сочетают в себе высокое качество, </span>\n",
       "<span style=\"color: #c0c0c0; text-decoration-color: #c0c0c0\">уникальный дизайн и доступную цену.</span>\n",
       "</pre>\n"
      ],
      "text/plain": [
       "\u001b[37mПраздник весны в Китае – это время ярких красок, безудержного веселья и, конечно же, подарков!\u001b[0m \u001b[37mВ эти дни принято \u001b[0m\n",
       "\u001b[37mдарить близким сувениры, которые будут напоминать о тёплых семейных встречах.\u001b[0m \u001b[37mВ этом году праздник обещает быть \u001b[0m\n",
       "\u001b[37mособенно радостным и запоминающимся.\u001b[0m \u001b[32mВедь к нему можно подготовиться заранее – подобрать уникальные и оригинальные \u001b[0m\n",
       "\u001b[32mсувениры от PartyGoods.\u001b[0m \u001b[37mОни станут идеальным подарком для друзей и близких, а также будут радовать их долгое время.\u001b[0m\n",
       "\u001b[32mz\u001b[0m\n",
       "\u001b[32mСувениры от PartyGoods созданы с любовью и заботой о каждом клиенте.\u001b[0m \u001b[37mОни сочетают в себе высокое качество, \u001b[0m\n",
       "\u001b[37mуникальный дизайн и доступную цену.\u001b[0m\n"
      ]
     },
     "metadata": {},
     "output_type": "display_data"
    }
   ],
   "source": [
    "pretty_print(check(request_text_2,tokenizer_ge, model_ge, model_base, vectorizers[\"CountVectorizer\"]))"
   ]
  },
  {
   "cell_type": "markdown",
   "id": "fa793a89-bb80-4ee4-91ce-2905be37b46c",
   "metadata": {},
   "source": [
    "3. Текст, классифицирован как рекламный, но **факт продажи не распознан**  \n",
    "\n",
    "Можно отнести к факту продажи фразу: *`\"бренда «Оригинальные сувениры», который подготовил особенные призы для участников.\"`*"
   ]
  },
  {
   "cell_type": "code",
   "execution_count": 277,
   "id": "2c7a8493-2885-4ae0-91d3-785bda0ad550",
   "metadata": {},
   "outputs": [
    {
     "data": {
      "text/html": [
       "<pre style=\"white-space:pre;overflow-x:auto;line-height:normal;font-family:Menlo,'DejaVu Sans Mono',consolas,'Courier New',monospace\"><span style=\"color: #c0c0c0; text-decoration-color: #c0c0c0\">Нью-Йорк, </span><span style=\"color: #c0c0c0; text-decoration-color: #c0c0c0; font-weight: bold\">23</span><span style=\"color: #c0c0c0; text-decoration-color: #c0c0c0\"> ноября </span><span style=\"color: #c0c0c0; text-decoration-color: #c0c0c0; font-weight: bold\">2023</span><span style=\"color: #c0c0c0; text-decoration-color: #c0c0c0\"> года.</span> <span style=\"color: #c0c0c0; text-decoration-color: #c0c0c0\">В преддверии Дня благодарения в Нью-Йорке состоится викторина по истории США.</span> <span style=\"color: #c0c0c0; text-decoration-color: #c0c0c0\">В </span>\n",
       "<span style=\"color: #c0c0c0; text-decoration-color: #c0c0c0\">интеллектуальном соревновании смогут принять участие все желающие.</span> <span style=\"color: #c0c0c0; text-decoration-color: #c0c0c0\">Викторина позволит проверить свои знания и </span>\n",
       "<span style=\"color: #c0c0c0; text-decoration-color: #c0c0c0\">узнать много нового о жизни в Соединённых Штатах.</span> <span style=\"color: #c0c0c0; text-decoration-color: #c0c0c0\">Вопросы будут касаться всех периодов американской истории.</span> \n",
       "<span style=\"color: #c0c0c0; text-decoration-color: #c0c0c0\">Участники смогут проявить свою эрудицию и сообразительность.</span> <span style=\"color: #c0c0c0; text-decoration-color: #c0c0c0\">А самые удачливые — получить ценные призы.</span> <span style=\"color: #c0c0c0; text-decoration-color: #c0c0c0\">Имена </span>\n",
       "<span style=\"color: #c0c0c0; text-decoration-color: #c0c0c0\">победителей будут опубликованы в социальных сетях организаторов.</span> <span style=\"color: #c0c0c0; text-decoration-color: #c0c0c0\">Викторина проводится при поддержке бренда </span>\n",
       "<span style=\"color: #c0c0c0; text-decoration-color: #c0c0c0\">«Оригинальные сувениры», который подготовил особенные призы для участников.</span> <span style=\"color: #c0c0c0; text-decoration-color: #c0c0c0\">Среди подарков — уникальные </span>\n",
       "<span style=\"color: #c0c0c0; text-decoration-color: #c0c0c0\">исторические сувениры, которые позволят сохранить память об этом событии.</span> <span style=\"color: #c0c0c0; text-decoration-color: #c0c0c0\">Не упустите возможность проверить свои </span>\n",
       "<span style=\"color: #c0c0c0; text-decoration-color: #c0c0c0\">знания, интересно провести время и получить ценные призы!</span>\n",
       "</pre>\n"
      ],
      "text/plain": [
       "\u001b[37mНью-Йорк, \u001b[0m\u001b[1;37m23\u001b[0m\u001b[37m ноября \u001b[0m\u001b[1;37m2023\u001b[0m\u001b[37m года.\u001b[0m \u001b[37mВ преддверии Дня благодарения в Нью-Йорке состоится викторина по истории США.\u001b[0m \u001b[37mВ \u001b[0m\n",
       "\u001b[37mинтеллектуальном соревновании смогут принять участие все желающие.\u001b[0m \u001b[37mВикторина позволит проверить свои знания и \u001b[0m\n",
       "\u001b[37mузнать много нового о жизни в Соединённых Штатах.\u001b[0m \u001b[37mВопросы будут касаться всех периодов американской истории.\u001b[0m \n",
       "\u001b[37mУчастники смогут проявить свою эрудицию и сообразительность.\u001b[0m \u001b[37mА самые удачливые — получить ценные призы.\u001b[0m \u001b[37mИмена \u001b[0m\n",
       "\u001b[37mпобедителей будут опубликованы в социальных сетях организаторов.\u001b[0m \u001b[37mВикторина проводится при поддержке бренда \u001b[0m\n",
       "\u001b[37m«Оригинальные сувениры», который подготовил особенные призы для участников.\u001b[0m \u001b[37mСреди подарков — уникальные \u001b[0m\n",
       "\u001b[37mисторические сувениры, которые позволят сохранить память об этом событии.\u001b[0m \u001b[37mНе упустите возможность проверить свои \u001b[0m\n",
       "\u001b[37mзнания, интересно провести время и получить ценные призы!\u001b[0m\n"
      ]
     },
     "metadata": {},
     "output_type": "display_data"
    }
   ],
   "source": [
    "pretty_print(check(request_text_3,tokenizer_ge, model_ge, model_base, vectorizers[\"CountVectorizer\"]))"
   ]
  },
  {
   "cell_type": "markdown",
   "id": "2321d460",
   "metadata": {},
   "source": [
    "### Выводы:\n",
    "Модель вполне хорошо определяет отрывки содержашие факт продажи, а также название компаний. Тем не менее сложные случаи, как в тексте 3 она обнаружить не смогла.  \n",
    "Помимо этого модель слабо работает на собственноручно написанных примерах, т.к была обучен на синтетическом датасете от яндекс гпт. Это стоит учитывать при применении модели к другого рода данным."
   ]
  },
  {
   "cell_type": "markdown",
   "id": "4f310485-203f-47e3-a40e-fd492f326e32",
   "metadata": {},
   "source": [
    "# 5. Сравнение с LLM YandexGPT\n",
    "\n",
    "Так как для генерации датасета я уже использовала LLM YandexGPT, я решила протестировать, как это можель будет справляться и с поиском факта продажи.\n",
    "Попробуем два варианта:\n",
    "1. Выводить номера предложений, в которых присутствует факт продажи\n",
    "2. Выводить индексы символов начала и конца фразы о продаже в тексте"
   ]
  },
  {
   "cell_type": "code",
   "execution_count": 26,
   "id": "bd6c96bf-099c-4db7-9c23-543ed037931b",
   "metadata": {},
   "outputs": [],
   "source": [
    "from dataset_generation.gpt_wrapper import YandexGptApi\n",
    "\n",
    "FOLDER_ID = 'YOUR_FOLDER_ID'     # TODO hide it\n",
    "OAUTH_TOKEN = 'YOUR_OAUTH_TOKEN'   # TODO hide it\n",
    "yandex_gpt = YandexGptApi(OAUTH_TOKEN, FOLDER_ID)"
   ]
  },
  {
   "cell_type": "code",
   "execution_count": 34,
   "id": "7c309c40",
   "metadata": {},
   "outputs": [
    {
     "name": "stdout",
     "output_type": "stream",
     "text": [
      "Text 0:\n",
      "\t6. Также для участников конкурса и гостей мероприятия будет организована выставка-продажа книг издательства «Поэзия Татарстана».\n",
      "Text 1:\n",
      "\tФакт продажи в этом тексте отсутствует.\n",
      "Text 2:\n",
      "\t3. Ведь к нему можно подготовиться заранее – подобрать уникальные и оригинальные сувениры от PartyGoods.\n",
      "\t4. Они станут идеальным подарком для друзей и близких, а также будут радовать их долгое время.\n",
      "Text 3:\n",
      "\t8. Викторина проводится при поддержке бренда «Оригинальные сувениры», который подготовил особенные призы для участников.\n",
      "\t9. Среди подарков — уникальные исторические сувениры, которые позволят сохранить память об этом событии.\n"
     ]
    }
   ],
   "source": [
    "# Вариант 1:\n",
    "def sequence_detect(request_text: str):\n",
    "    instructions = (\"Тебе на вход придёт текст с пронумерованными предложениями. Проанализируй его и выпиши\\\n",
    "        все предложения, в которых присутствует факт продажи. Укажи эти предложения отдельно и выведи только их,\\\n",
    "        не выводи лишнего. Для разделения используй символ '\\n'.\"\n",
    "    )\n",
    "\n",
    "    sentences = re.split(r'(?<=[.!?])\\s+', request_text)\n",
    "    sentences = [s.strip() for s in sentences if s.strip()]\n",
    "    numbered = [f\"{i}. {sentence}\" for i, sentence in enumerate(sentences)]\n",
    "    number_request = '\\n'.join(numbered)\n",
    "\n",
    "    answer = yandex_gpt.completion(instructions, number_request, temperature=0.1)\n",
    "    return answer\n",
    "\n",
    "for i, request in enumerate([request_text_0,request_text_1,request_text_2,request_text_3]):\n",
    "    print(f\"Text {i}:\")\n",
    "    for line in sequence_detect(request).split('\\n'):\n",
    "        print(f\"\\t{line}\")"
   ]
  },
  {
   "cell_type": "code",
   "execution_count": 45,
   "id": "9905f938",
   "metadata": {},
   "outputs": [
    {
     "name": "stdout",
     "output_type": "stream",
     "text": [
      "Text 0:\n",
      "\tИндексы: [71, 80]\n",
      "\tОтрывок: Также для участников конкурса и гостей мероприятия будет организована выставка-продажа книг издательства «Поэзия Татарстана».\n",
      "Text 1:\n",
      "\tФакта продажи в данном тексте нет.\n",
      "Text 2:\n",
      "\tИндексы: [65, 83]\n",
      "\tОтрывок: Они станут идеальным подарком для друзей и близких, а также будут радовать их долгое время.\n",
      "Text 3:\n",
      "\tФакта продажи в данном тексте нет.\n"
     ]
    }
   ],
   "source": [
    "# Вариант 2:\n",
    "def interval_detect(request_text: str):\n",
    "    instructions = (\"Тебе на вход придёт текст, проанализируй его и на наличие факта продажи. Выведи отрывок\\\n",
    "        текста с фактом продажи и индексты начала и конца отрывка в тексте. Пример: ' Индексы: [15,45] Отрывок: Продаю гараж компании\\\n",
    "        Нивада!'. Не выводи лишнего.\"\n",
    "    )\n",
    "\n",
    "    answer = yandex_gpt.completion(instructions, request_text, temperature=0.2)\n",
    "    return answer\n",
    "\n",
    "for i, request in enumerate([request_text_0,request_text_1,request_text_2,request_text_3]):\n",
    "    print(f\"Text {i}:\")\n",
    "    for line in interval_detect(request).split('\\n'):\n",
    "        print(f\"\\t{line}\")"
   ]
  },
  {
   "cell_type": "markdown",
   "id": "0e9d69cb",
   "metadata": {},
   "source": [
    "## Вывод:  \n",
    "При использовании LLM возникают много проблем с соблюдениев формата вывода, а также с выводом лишней информации. Помимо этого добиться выводить отрывок из текста не удалось.  \n",
    "Однако этот способ имеет место быть, если требуется быстро приготовить решение.  \n",
    "\n",
    "Не исключаю, что если подобрать более грамотный промпт, можно будет добиться лучших результатов."
   ]
  },
  {
   "cell_type": "markdown",
   "id": "62ade1f4",
   "metadata": {},
   "source": []
  }
 ],
 "metadata": {
  "kernelspec": {
   "display_name": "Python 3 (ipykernel)",
   "language": "python",
   "name": "python3"
  },
  "language_info": {
   "codemirror_mode": {
    "name": "ipython",
    "version": 3
   },
   "file_extension": ".py",
   "mimetype": "text/x-python",
   "name": "python",
   "nbconvert_exporter": "python",
   "pygments_lexer": "ipython3",
   "version": "3.10.12"
  }
 },
 "nbformat": 4,
 "nbformat_minor": 5
}
